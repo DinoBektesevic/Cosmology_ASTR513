{
 "cells": [
  {
   "cell_type": "markdown",
   "metadata": {},
   "source": [
    "# Cosmology HW3\n",
    "## Dino Bektesevic 08.05.2019"
   ]
  },
  {
   "cell_type": "code",
   "execution_count": 1,
   "metadata": {},
   "outputs": [],
   "source": [
    "import numpy as np\n",
    "import matplotlib.pyplot as plt\n",
    "from scipy.optimize import fsolve\n",
    "import astropy.units as u\n",
    "import astropy.constants as c\n",
    "%matplotlib inline"
   ]
  },
  {
   "cell_type": "markdown",
   "metadata": {},
   "source": [
    "# 1) short answer"
   ]
  },
  {
   "cell_type": "markdown",
   "metadata": {},
   "source": [
    "## a.) Reason how the flatness problem can also be phrased in terms of an extreme fine tuning of the initial velocities of matter in the Universe.\n",
    "\n",
    "Starting with:\n",
    "\n",
    "$$F_g = m\\ddot{r} = - \\frac{Gm}{r^2}$$\n",
    "\n",
    "and integrating\n",
    "\n",
    "$$\\begin{align}\n",
    "\\int \\ddot r dr &= \\int \\frac{Gm_{enc}}{r^2} dr \\\\\n",
    "\\frac{1}{2}\\dot r^2 &= \\frac{Gm_{enc}}{r} + C\n",
    "\\end{align}$$\n",
    "\n",
    "So we see that the velocity is determined by the gravitational potential energy plus some additional constant. Since the upper expression is really an equipartition-of-energy-like expression we can identify the constant to belong to any remaining energy terms present in the universe. We have adopted $\\Lambda$CDM cosmology for all of our homeworks and thus we can only identify that constant as the remaning energy term related to curvature. \n",
    "\n",
    "In inflation that constant should tend towards zero, to solve the flatness problem, meaning that the kinetic energy part has to be approximately equal to the gravitational energy part. That is possible only by fine tuning the velocity $\\dot r$. "
   ]
  },
  {
   "cell_type": "markdown",
   "metadata": {},
   "source": [
    "## b.) Reason why dark matter is required for there to be galaxies.\n",
    "\n",
    "I'm not 100% sure we would need them. Why wouldn't there be baryonic galaxies - after all initial perturbations could come all together from baryonic density perturbations. The issue is that then we can't reconstruct galaxy cluster velocities or get accurate mass estimates for them, or can we get a correct estimate of the z at which first galaxies would have formed (as dark matter perturbations began growing much earlier, baryons effectively trace out the structure already put in place by dark matter), nor could we explain the rotational curves of galaxies - so the assumption is that there must've been dark matter early on and that it does contributed to the perturbations and ergo the played a role in formation of galaxies. But still not sure why they would not form if not for dark matter."
   ]
  },
  {
   "cell_type": "markdown",
   "metadata": {},
   "source": [
    "## c.) Write an expression for the evolution of Ωm(z) that only depends on other Ω today (so all with subscript zero) and the redshift.\n",
    "\n",
    "$$\\begin{align}\n",
    "\\Omega_m &= \\frac{\\rho_m}{\\rho_c} \\\\\n",
    "&\\rho_c \\equiv \\frac{3H^2}{8\\pi G} \\\\\n",
    "&\\rho_m \\equiv \\rho_{m,0}(1+z)^3 \\\\\n",
    "& H^2 \\equiv H_0^2 \\left[ \\Omega_{r, 0}(1+z)^4 + \\Omega_{m,0}(1+z)^3 + (1-\\Omega_{m,0}-\\Omega_{\\Lambda, 0})(1+z)^2 + \\Omega_{\\Lambda, 0} \\right] \\\\\n",
    "\\Omega_m &= \\frac{\\rho_{m,0}(1+z)^3}{\\frac{3H^2}{8\\pi G}} \\\\\n",
    "\\Omega_m &= \\frac\n",
    "    {8\\pi G \\rho_{m,0}(1+z)^3 }\n",
    "    {3H_0^2 \\left[ \\Omega_{r, 0}(1+z)^4 + \\Omega_{m,0}(1+z)^3 + (1-\\Omega_{m,0}-\\Omega_{\\Lambda, 0})(1+z)^2 + \\Omega_{\\Lambda, 0} \\right]} \\\\\n",
    "\\Omega_m &= \\frac\n",
    "    {8\\pi G \\Omega_{m,0}\\rho_{c,0}(1+z)^3 }\n",
    "    {3H_0^2 \\left[ \\Omega_{r, 0}(1+z)^4 + \\Omega_{m,0}(1+z)^3 + (1-\\Omega_{m,0}-\\Omega_{\\Lambda, 0})(1+z)^2 + \\Omega_{\\Lambda, 0} \\right]} \\\\\n",
    "&H_0^2 \\equiv \\frac{8\\pi G\\rho_{c,0}}{3} \\\\\n",
    "\\Omega_m &= \\frac\n",
    "    {H_0^2 \\Omega_{m,0}(1+z)^3 }\n",
    "    {H_0^2 \\left[ \\Omega_{r, 0}(1+z)^4 + \\Omega_{m,0}(1+z)^3 + (1-\\Omega_{m,0}-\\Omega_{\\Lambda, 0})(1+z)^2 + \\Omega_{\\Lambda, 0} \\right]} \\\\\n",
    "\\Omega_m &= \\frac\n",
    "    {\\Omega_{m,0}(1+z)^3 }\n",
    "    {\\left[ \\Omega_{r, 0}(1+z)^4 + \\Omega_{m,0}(1+z)^3 + (1-\\Omega_{m,0}-\\Omega_{\\Lambda, 0})(1+z)^2 + \\Omega_{\\Lambda, 0} \\right]} \\\\\n",
    "\\end{align}$$"
   ]
  },
  {
   "cell_type": "markdown",
   "metadata": {},
   "source": [
    "## d.) Motivate why the logarithmic integral over 2C/[2π] is approximately the temperature variance.\n",
    "\n",
    "Given variance of dimensionless temperature fluctuation:\n",
    "$$\\left<\\frac{\\delta T}{T}\\right> = \\frac{1}{4\\pi}\\int \\left(\\frac{\\delta T}{T}\\right)^2 d\\Omega $$\n",
    "with definition of dimensionless temperature fluctuation:\n",
    "$$\\frac{\\delta T}{T} = \\frac{T-\\left<T\\right>}{\\left<T\\right>}$$\n",
    "and from the definition of variance:\n",
    "$$ Var(T) = \\left<T\\right> = \\left<T^2\\right> - \\left<T\\right>^2$$\n",
    "we see that approximation $\\frac{T-\\left<T\\right>}{\\left<T\\right>}\\approx \\frac{T}{\\left<T\\right>}$ will be order unity so that we can write $\\left<T\\right> \\approx \\left<T^2\\right>$ if we ignore the constant scaling, mostly, due to the monopole contribution. Then, for a multipole expansion of a function, we evaluate:\n",
    "$$T = \\sum_{l=0}^\\infty \\sum_{m=-l}^l C_l^mY_l^m$$\n",
    "we can write the following:\n",
    "$$\\begin{align}\n",
    "\\left<T^2\\right> &= \\frac{1}{4\\pi}\\int |T|^2 d\\Omega\\\\\n",
    "\\text{since } |c|^2=cc^* &\\text{ when } c \\in \\mathbb{C}   \\\\\n",
    "&= \\frac{1}{4\\pi}\\int  \\sum_{l=0}^\\infty \\sum_{m=-l}^l C_l^mY_l^m C_{l'}^{*m'}Y_{l'}^{*m'} d\\Omega \\\\\n",
    "&= \\frac{1}{4\\pi} \\sum_{l=0}^\\infty \\sum_{m=-l}^l \\int C_l^mY_l^m C_{l'}^{*m'}Y_{l'}^{*m'} d\\cos\\theta d\\phi \\\\\n",
    "\\text{from orthogonality: }&\\int C_l^mY_l^m C_l^{*m}Y_l^{*m} d\\cos\\theta d\\phi = \\delta_{ll'}\\delta_{mm'} \\\\\n",
    "&= \\frac{1}{4\\pi} \\sum_{l=0}^\\infty \\sum_{m=-l}^l \\int C_l^mY_l^m C_{l'}^{*m'}Y_{l'}^{*m'} d\\cos\\theta d\\phi \\\\\n",
    "&= \\frac{1}{4\\pi} \\sum_{l=0}^\\infty \\sum_{m=-l}^l C_l^m C_{l'}^{*m'} \\\\\n",
    "&= \\frac{1}{4\\pi} \\sum_{l=0}^\\infty \\sum_{m=-l}^l |C_l^m|^2 \\\\\n",
    "\\text{from closure relation: }& \\sum_{m=-l}^l|Y_l^m|^2 = \\frac{2l+1}{4\\pi} \\\\\n",
    "\\text{but we know that: }& Y_l^m = C_l^mP_l(\\cos\\theta)e^{-im\\phi} \\rightarrow \\sum_{m=-l}^l |C_l^m|^2 = c_l(2l+1) \\\\\n",
    "&= \\sum_{l=0}^\\infty \\frac{c_l}{4\\pi}(2l+1)\n",
    "\\end{align}$$\n",
    "\n",
    "If we close our eyes and completely wreck mathemathics:\n",
    "\n",
    "$$\\begin{align}\n",
    "\\left<T^2\\right> &= \\int_{l=0}^\\infty \\frac{c_l}{4\\pi}(2l+1)dl \\\\\n",
    "x = \\ln(l); dx = 1/l dl &\\rightarrow dl = ldx \\\\\n",
    "&= \\int_{l=0}^\\infty \\frac{c_l}{4\\pi} (2l+1) ld(\\ln l) \\\\\n",
    "&\\approx \\int_{l=0}^\\infty \\frac{c_l}{4\\pi} l^2 d(\\ln l) \\\\\n",
    "\\end{align}$$\n",
    "\n",
    "since it will be the large `l`s that carry most of the importance in that integral."
   ]
  },
  {
   "cell_type": "markdown",
   "metadata": {},
   "source": [
    "## e) If there is a spherical overdensity with mass M and linear overdensity at z = 2 of δ L = 3 in our cosmos, at what redshift did it first collapse into a halo?\n",
    "\n",
    "$$\\begin{align}\n",
    "\\delta_l &= a/a_i \\\\\n",
    "\\delta_{li} &= \\frac{1+z_i}{1+z} \\delta_Li \\\\\n",
    "\\rightarrow z_i &= \\left [ (1+z) \\frac{\\delta_l}{\\delta_{li}} \\right]\n",
    "\\end{align}$$"
   ]
  },
  {
   "cell_type": "code",
   "execution_count": 2,
   "metadata": {},
   "outputs": [
    {
     "data": {
      "text/plain": [
       "4.325443786982248"
      ]
     },
     "execution_count": 2,
     "metadata": {},
     "output_type": "execute_result"
    }
   ],
   "source": [
    "(1+2)*(3/1.69)-1"
   ]
  },
  {
   "cell_type": "markdown",
   "metadata": {},
   "source": [
    "# 2 Potential Fluctuations"
   ]
  },
  {
   "cell_type": "markdown",
   "metadata": {},
   "source": [
    "## a) Show that in an Ω m = 1 universe the fluctuation gravitational potential φ of a spherical region with overdensity δ is time-independent for δ << 1 at fixed comoving distance from the center.\n",
    "\n",
    "From \n",
    "$$\\nabla_x^2 \\Phi(x,t) = \\frac{3}{2} H^2 a^2 \\delta$$\n",
    "via $\\delta, a \\approx t^{\\frac{3}{2}}$, $\\delta = \\frac{\\rho}{\\bar\\rho} - 1$ and $H=\\frac{2}{3t}$ we have:\n",
    "$$\\begin{align}\n",
    "\\frac{d}{dt}\\left[\\nabla_x^2 \\Phi(x,t)\\right] &= \\frac{d}{dt}\\left[\\frac{3}{2} \\left(\\frac{2}{3t}\\right)^2 (t^\\frac{2}{3})^2t^\\frac{2}{3}\\cdot\\text{const.}\\right] \\\\\n",
    "&= \\text{const.}\\cdot\\frac{d}{dt}\\left[\\frac{2}{3}\\right]= 0\n",
    "\\end{align}$$"
   ]
  },
  {
   "cell_type": "code",
   "execution_count": 11,
   "metadata": {},
   "outputs": [
    {
     "data": {
      "text/plain": [
       "-1.1102230246251565e-16"
      ]
     },
     "execution_count": 11,
     "metadata": {},
     "output_type": "execute_result"
    }
   ],
   "source": [
    "-2+2/3*2 +2/3"
   ]
  },
  {
   "cell_type": "markdown",
   "metadata": {},
   "source": [
    "## b) Argue that when the linear growth lags behind the matter dominated case δ ∝ a, the gravitational potential decays for linear fluctuations.\n",
    "\n",
    "Rinse and repeat but for a general $\\delta = t^n$: \n",
    "$$\\begin{align}\n",
    "\\nabla_x^2 \\Phi(x,t) &= \\frac{3}{2} H^2 a^2 \\delta\\\\\n",
    "\\frac{d}{dt}\\left[\\nabla_x^2 \\Phi(x,t)\\right] &= \\frac{d}{dt}\\left[\\frac{3}{2} \\left(\\frac{2}{3t}\\right)^2 (t^\\frac{2}{3})^2t^n\\cdot\\text{const.}\\right] \\\\\n",
    "&= \\text{const.}\\cdot\\frac{d}{dt}\\left[\\frac{2}{3}t^{n-2/3}\\right]\n",
    "\\end{align}$$\n",
    "\n",
    "which will have a negative exponent for $n<2/3$ which would correspond to $\\nabla_x^2 \\Phi(x,t)$ decreasing with time."
   ]
  },
  {
   "cell_type": "markdown",
   "metadata": {},
   "source": [
    "## c) If a CMB photon travels through a large-scale overdense region, qualitatively describe how its energy changes. \n",
    "\n",
    "Photon that was in a potential well at last scattering surface appears redshifted due to the loss of energy required to climb out of the potential well. Conversely, blueshifted photons will be those that found themselves at one of the potential maximums at the last scattering surface since.                     \n",
    "This occurs on scales smaller than $\\Theta_H = \\frac{c/H_{ls}}{d_A}$. For scales larger than $c/H_{ls}$ the photon-baryon fluid won't have the time to fall to the bottom of the potential well since before decoupling the fluid travels at a speed less than c. Above this scale range it is mostly dark matter that dictates fluctuations (which ties into the question about galaxies, but these form galaxy clusters, not neccessarily galaxies themselves so...)"
   ]
  },
  {
   "cell_type": "markdown",
   "metadata": {},
   "source": [
    "## d) The velocity of a galaxy is related to its initial potential by $v^2 \\approx$ φ. Inflation imprinted scale invariant potential fluctuations with φ ∼ $10^{−5}c^2 $, which would mean halos at all mass scales have the same circular velocity on average of $v\\approx c_\\phi\\approx 10^3$ km/s. However, this is not the case in our universe as dwarf galaxies have much smaller circular velocities, $v\\approx 10$ km/s, and only clusters of galaxies have $v \\approx 10^3$ km/s. Reason why.\n",
    "\n",
    "As time progresses the perturbation travels further, untill they enter the horizon when the growth of the perturbations stop. The amplitude of the perturbation is thus smaller for smaller scales, for which the perturbation enters the horizon earlier. Knowing that effectively the density scales as $\\rho = \\bar\\rho(1+\\delta)$ and that, via the virialization theorem $E_k = 1/2E_p$, we see how at smaller scales we are able to create only smaller central potentials due to the smaller encircled mass. This corresponds to smaller virialized velocities of those objects. "
   ]
  },
  {
   "cell_type": "markdown",
   "metadata": {},
   "source": [
    "# 3. Growth in other Universes\n",
    "\n",
    "Consider a critical density Ωtot = 1 universe in which nonrelativistic massive neutrinos contribute Ω ν to the density parameter and the rest is standard cold dark matter. Show that on scales where the neutrinos are moving fast enough that they do not appreciably clump (they stream freely over potential wells), cold dark matter perturbations will grow at a rate δ ∝ t α , where α = [(25 − 24Ω ν ) 1/2 − 1]/6.\n",
    "\n",
    "Continuity equation:\n",
    "\n",
    "$$\\begin{align}\n",
    "\\dot\\rho =& -\\nabla (\\rho \\vec u)\n",
    "\\end{align}$$\n",
    "\n",
    "The perturbation is:\n",
    "$$\\begin{align}\n",
    "\\rho &= \\bar \\rho(\\delta +1) \\\\\n",
    "\\dot\\rho &= \\dot\\delta\n",
    "\\end{align}$$\n",
    "\n",
    "Involving Eulers equations:\n",
    "$$\\begin{align}\n",
    "m\\frac{du_i}{dt} &= mg_i \\\\\n",
    "\\rho \\frac{Du_i}{Dt} &= \\rho g_i - \\nabla P - u\\rho(\\nabla_i \\nabla_j u_j)\n",
    "\\end{align}$$\n",
    "Viscosity and pressure can be ignored:\n",
    "$$\\begin{align}\n",
    "\\frac{Du_i}{Dt} &= g_i \\\\\n",
    "\\frac{du_i}{dt} + (\\vec u \\cdot\\nabla)u_i &= -\\nabla_r\\Phi = -4\\pi G\\rho\n",
    "\\end{align}$$\n",
    "\n",
    "Changing to comoving coordinates: \n",
    "$$\\begin{align}\n",
    "\\vec r &= a\\vec x \\\\\n",
    "\\text{since: } \\frac{d}{dr} &= \\frac{1}{a}\\frac{d}{dx} \\\\\n",
    "\\vec u &= \\dot a\\vec x + \\vec v \\\\\n",
    "\\vec{\\dot u} &= \\frac{\\dot a}{a}\\vec x + \\vec{\\dot v}\n",
    "\\end{align}$$\n",
    "gives us the following perturbation and Euler's equation:\n",
    "$$\\begin{align}\n",
    "\\dot\\delta &= - \\nabla_x \\left(\\frac{1}{a}(\\delta+1)\\vec v\\right) \\\\\n",
    "\\vec{\\dot v} + \\frac{\\dot a}{a}\\vec{\\dot r} + \\frac{1}{a}(\\vec v \\cdot\\nabla_x)\\vec v + \\frac{1}{a}\\nabla_x\\Phi = 0\n",
    "\\end{align}$$\n",
    "\n",
    "Linearizing gives us:\n",
    "$$\\begin{align}\n",
    "\\dot\\delta +  \\frac{1}{a}\\nabla_x \\vec v &= 0 \\\\\n",
    "\\frac{1}{a}\\nabla_x\\vec{\\dot v} + \\frac{\\dot a}{a^2}\\nabla_x \\vec v + \\frac{1}{a^2}\\nabla_x^2\\Phi &= 0 \\\\\n",
    "\\text{Substitute and simplify: }& \\\\\n",
    "-\\ddot\\delta - 2\\frac{\\dot a}{a}\\dot\\delta - 4\\pi G \\rho\\delta &= 0 \\\\\n",
    "\\text{From definition: } H^2 =& \\frac{8\\pi G\\rho}{3\\Omega} \\\\\n",
    "\\ddot\\delta + 2H\\dot\\delta - \\frac{3}{2}H^2\\Omega\\delta &= 0 \n",
    "\\end{align}$$\n",
    "\n",
    "Since problemset gives u $\\Omega_{\\text{rest}} + \\Omega_\\nu = 1$:\n",
    "$$\\ddot\\delta + 2H\\dot\\delta - \\frac{3}{2}H^2(1-\\Omega_\\nu)\\delta = 0$$\n",
    "\n",
    "It would potentially be interesting to find the dispersion relation for the above ODE but thankfully we are given the solution, $\\delta\\approx t^\\alpha$ where $\\alpha = \\frac{\\sqrt{25-24\\Omega_\\nu}-1}{6}$, in the problem so its sufficient just to show that it is one:\n",
    "$$\\begin{align}\n",
    "\\alpha(\\alpha-1)t^{\\alpha-2} + \\frac{4}{3}\\alpha t^{\\alpha-2} - \\frac{2}{3}t^{\\alpha-2}(1-\\Omega_\\nu) &= 0 \\\\ \n",
    "\\alpha(\\alpha-1) + \\frac{4}{3}\\alpha - \\frac{2}{3}(1-\\Omega_\\nu) &= 0 \\\\\n",
    "\\end{align}$$\n",
    "\n",
    "This is just a quadratic equation and I was a bit lazy to actually write it all out in MathJax, so I just copied it to wolfram alpha [https://www.wolframalpha.com/input/?i=x(x-1)+%2B+4%2F3*x+-+2%2F3(1-a)+%3D+0) ] and got the wanted solution."
   ]
  },
  {
   "cell_type": "code",
   "execution_count": null,
   "metadata": {},
   "outputs": [],
   "source": []
  }
 ],
 "metadata": {
  "kernelspec": {
   "display_name": "Python 3",
   "language": "python",
   "name": "python3"
  },
  "language_info": {
   "codemirror_mode": {
    "name": "ipython",
    "version": 3
   },
   "file_extension": ".py",
   "mimetype": "text/x-python",
   "name": "python",
   "nbconvert_exporter": "python",
   "pygments_lexer": "ipython3",
   "version": "3.7.3"
  }
 },
 "nbformat": 4,
 "nbformat_minor": 1
}
