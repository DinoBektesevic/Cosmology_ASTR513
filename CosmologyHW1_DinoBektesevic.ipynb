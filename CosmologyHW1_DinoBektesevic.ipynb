{
 "cells": [
  {
   "cell_type": "markdown",
   "metadata": {},
   "source": [
    "# Cosmology HW1\n",
    "## Dino Bektesevic 17.04.2019"
   ]
  },
  {
   "cell_type": "code",
   "execution_count": 1,
   "metadata": {},
   "outputs": [],
   "source": [
    "import numpy as np\n",
    "import pylab as plt\n",
    "from scipy import integrate\n",
    "import astropy.units as u\n",
    "import astropy.constants as c\n",
    "%matplotlib inline"
   ]
  },
  {
   "cell_type": "markdown",
   "metadata": {},
   "source": [
    "## 1. Short answer (Each part should require minimal algebra.)\n",
    "### a) What is the distance of a galaxy moving away at 10,000 km/s?  "
   ]
  },
  {
   "cell_type": "markdown",
   "metadata": {},
   "source": [
    "$$\\begin{align}\n",
    "v &= Hr = \\frac{10000 km/s}{70km/s/Mpc} \\\\\n",
    "r &= 142.86Mpc\n",
    "\\end{align}$$\n",
    "$$$$"
   ]
  },
  {
   "cell_type": "markdown",
   "metadata": {},
   "source": [
    "### b) What is the redshift since when the Universe has expanded by a factor of 2?"
   ]
  },
  {
   "cell_type": "markdown",
   "metadata": {},
   "source": [
    "$$\\begin{align}\n",
    "a_{em} &= \\frac{1}{1+z} \\\\\n",
    "\\frac{1}{2} &= \\frac{1}{1+z} \\\\\n",
    "z &= 1\n",
    "\\end{align}$$"
   ]
  },
  {
   "cell_type": "markdown",
   "metadata": {},
   "source": [
    "### c) What is the the redshift at which radiation and matter energy densities are equal? You can use that Ωm = 0.3 and Ωr= 0.0001. "
   ]
  },
  {
   "cell_type": "markdown",
   "metadata": {},
   "source": [
    "$$\\begin{align}\n",
    "\\frac{H^2}{H^2_0} &= \\frac{\\Omega_{r,0}}{a^4} +\\frac{\\Omega_{m,0}}{a^3} \\\\\n",
    "\\frac{\\Omega_{r,0}}{a^4} &= \\frac{\\Omega_{m,0}}{a^3} \\\\\n",
    "\\frac{a^3}{a^4} &= \\frac{\\Omega_{m,0}}{\\Omega_{r,0}} \\\\\n",
    "\\frac{1}{a} &= 3000 \\\\\n",
    "z &\\approx 3000\n",
    "\\end{align}$$"
   ]
  },
  {
   "cell_type": "markdown",
   "metadata": {},
   "source": [
    "### Assuming vacuum energy with ΩΛ= 0.7, what is the redshiftwhere the matter density equal to the dark energy density?"
   ]
  },
  {
   "cell_type": "markdown",
   "metadata": {},
   "source": [
    "$$\\frac{H^2}{H^2_0} = \\frac{\\Omega_{m,0}}{a^3} + \\frac{1-\\Omega_{m,0}-\\Omega_{\\Lambda,0}}{a^2} - \\Omega_{\\Lambda,0}$$\n",
    "\n",
    "Since $1-\\Omega_{m,0}-\\Omega_{\\Lambda,0} = 0$\n",
    "\n",
    "$$\\begin{align}\n",
    "\\frac{\\Omega_{m,0}}{a^3} &= \\Omega_{\\Lambda,0} \\\\\n",
    "a^3 &= \\frac{0.3}{0.7} \\\\\n",
    "a &= 0.754 \\\\\n",
    "\\frac{1}{1+z} &= 0.754 \\\\\n",
    "z &= 0.32\n",
    "\\end{align}$$"
   ]
  },
  {
   "cell_type": "markdown",
   "metadata": {},
   "source": [
    "### d) Sketch how would you calculate Ωr part c if I only gave you the present CMB temperatureof 2.7K?"
   ]
  },
  {
   "cell_type": "markdown",
   "metadata": {},
   "source": [
    "* CMB temperature scales as\n",
    "$$ T = T_0(1+z)$$\n",
    "* Energy density $\\epsilon$ is then approximately (CMB is just photons)\n",
    "$$ \\epsilon = aT^4 $$\n",
    "* from definition of $\\Omega_r$ we have:\n",
    "$$\\Omega_r = \\frac{\\epsilon}{\\epsilon_c}$$\n",
    "where $\\epsilon_c$ is the critical energy density we cn get from a book, i.e. Ryden ch. 2.4/2.5.\n"
   ]
  },
  {
   "cell_type": "markdown",
   "metadata": {},
   "source": [
    "### e) What was the temperature of the CMB at z = 1000 and $10^9$"
   ]
  },
  {
   "cell_type": "markdown",
   "metadata": {},
   "source": [
    "From the scaling law for the temperature above we have:\n",
    "$$z = 1000 \\rightarrow T = 2727.75K$$\n",
    "and\n",
    "$$z = 10^9 \\rightarrow T = 2.72\\cdot10^9K$$\n",
    "So temperature is order of magnitude of z."
   ]
  },
  {
   "cell_type": "markdown",
   "metadata": {},
   "source": [
    "## 2. Angular Diameter Distances\n",
    "**Please  assume  the  concordance  cosmology  for  this  problem. Calculations in this cosmology generally require numerical evaluation. Feel free to check any numerical calculation using a cosmology calculator, but you should also code up the calculation yourself (using Mathematica is also fine).**"
   ]
  },
  {
   "cell_type": "markdown",
   "metadata": {},
   "source": [
    "The provided code is easy to use and there is not much one can do to change it so I just used it. The only introduced change is the vectorization of `Dconf` - that way I don't have to worry if I sent a single number or an array of numbers. As a bonus I also get numpy arrays back so its easier to continue calculations with them, f.e. multiplying by a number doens't require a for loop or recasting it as np array again."
   ]
  },
  {
   "cell_type": "code",
   "execution_count": 2,
   "metadata": {},
   "outputs": [],
   "source": [
    "#cosmological parameters\n",
    "h = 0.7\n",
    "OmegaM=0.3\n",
    "OmegaL = 1- OmegaM  #assumes flat\n",
    "lightspeed = 3e5  #km/s\n",
    "\n",
    "#Hubble function\n",
    "def Hz(z):\n",
    "    return 100*h*(OmegaM*(1+z)**3+OmegaL)**.5\n",
    "\n",
    "#conformal distance\n",
    "def Dconf(z):\n",
    "    tmpf = lambda z: lightspeed*integrate.romberg(dConfDistdz, 0, z)\n",
    "    vectmpf = np.vectorize(tmpf)\n",
    "    return vectmpf(z)\n",
    "\n",
    "def dConfDistdz(z):\n",
    "    return 1./Hz(z)\n",
    "\n",
    "#angular diameter distance\n",
    "def DA(z):\n",
    "    return Dconf(z)/(1+z) "
   ]
  },
  {
   "cell_type": "code",
   "execution_count": 3,
   "metadata": {},
   "outputs": [
    {
     "data": {
      "text/plain": [
       "Text(0, 0.5, 'Mpc')"
      ]
     },
     "execution_count": 3,
     "metadata": {},
     "output_type": "execute_result"
    },
    {
     "data": {
      "image/png": "[encoded data removed]",
      "text/plain": [
       "<Figure size 432x288 with 1 Axes>"
      ]
     },
     "metadata": {
      "needs_background": "light"
     },
     "output_type": "display_data"
    }
   ],
   "source": [
    "zarr = np.linspace(0.1,10, num=100)\n",
    "plt.plot(zarr, DA(zarr)) \n",
    "plt.title('Angular diameter distance');\n",
    "plt.xlabel('redshift')\n",
    "plt.ylabel('Mpc')"
   ]
  },
  {
   "cell_type": "markdown",
   "metadata": {},
   "source": [
    "### a)  Consider  a  galaxy-sized  object  of  fixed  radius  with R=  1  kpc.   Plot  its  angular  size  inarc-seconds if t is observed at z= 0.001−10.  \n",
    "\n",
    "Angular size is given by $\\theta = \\frac{L}{d_A}$"
   ]
  },
  {
   "cell_type": "code",
   "execution_count": 4,
   "metadata": {},
   "outputs": [
    {
     "data": {
      "text/plain": [
       "Text(0, 0.5, 'arcsec')"
      ]
     },
     "execution_count": 4,
     "metadata": {},
     "output_type": "execute_result"
    },
    {
     "data": {
      "image/png": "[encoded data removed]",
      "text/plain": [
       "<Figure size 432x288 with 1 Axes>"
      ]
     },
     "metadata": {
      "needs_background": "light"
     },
     "output_type": "display_data"
    }
   ],
   "source": [
    "zarr = np.linspace(0.001, 10, num=100)\n",
    "angsize = 0.001/DA(zarr)\n",
    "\n",
    "plt.loglog(zarr, angsize*206265) \n",
    "plt.title('Angular diameter');\n",
    "plt.xlabel('redshift')\n",
    "plt.ylabel('arcsec')"
   ]
  },
  {
   "cell_type": "markdown",
   "metadata": {},
   "source": [
    "### What is the redshift at which the object attains its minimum angular size?  What is that size?"
   ]
  },
  {
   "cell_type": "code",
   "execution_count": 5,
   "metadata": {},
   "outputs": [
    {
     "name": "stdout",
     "output_type": "stream",
     "text": [
      "Minimal recovered angular size of an object is 5.718e-07 degrees(~0.1179 arc-seconds) located at z=1.617\n"
     ]
    }
   ],
   "source": [
    "rad2deg = 57.2958\n",
    "deg2sec = 3600\n",
    "\n",
    "minangsize = min(angsize)\n",
    "minindex = np.where(angsize == min(angsize))[0]\n",
    "atz = zarr[minindex[0]]\n",
    "\n",
    "print(\n",
    "      (f'Minimal recovered angular size of an object is {minangsize:.4} degrees'\n",
    "      f'(~{minangsize*rad2deg*deg2sec:.4} arc-seconds) located at z={atz}')\n",
    "     )"
   ]
  },
  {
   "cell_type": "markdown",
   "metadata": {},
   "source": [
    "### b) Calculate the comoving distance traveled from the beginning of time to z= 1000 assuming a velocity equal to c.  This istance is called the comoving “horizon”. \n",
    "\n",
    "This requires us to flip the integration boundaries essentially. Additionally we don't have the division by $1+z$ anymore either as its not an angular quantity. The integration method is also changed for one that supports improper integrals."
   ]
  },
  {
   "cell_type": "code",
   "execution_count": 6,
   "metadata": {},
   "outputs": [
    {
     "data": {
      "text/plain": [
       "array(494.62442238)"
      ]
     },
     "execution_count": 6,
     "metadata": {},
     "output_type": "execute_result"
    }
   ],
   "source": [
    "#conformal distance the other way around\n",
    "def dconf(z):\n",
    "    tmpf = lambda z: lightspeed*integrate.quad(dConfDistdz, z, np.inf)[0]\n",
    "    vectmpf = np.vectorize(tmpf)\n",
    "    return vectmpf(z)\n",
    "\n",
    "def dH(z):\n",
    "    return dconf(z)\n",
    "\n",
    "dH(1000)"
   ]
  },
  {
   "cell_type": "markdown",
   "metadata": {},
   "source": [
    "### c) Observing from the present, what is the angle subtended by the comoving horizon at z=1000?\n",
    "\n",
    "Following the same equations for angular quantities we used so far we have:\n",
    "$\\theta = \\frac{L}{d_A}$\n",
    "where L is the physical size of the object in question. In this case this is the longest distance light could have traveled from the observer in that time, aka the distance to horizon. \n",
    "\n",
    "$$d_H = \\int_z^\\infty \\frac{cdz}{H(z)}$$\n",
    "\n",
    "scaled by the scale factor, $a=1/(1+z)$, at that z:\n",
    "\n",
    "$$L=ad_H$$\n",
    "\n",
    "of course, given a cosmology $H\\approx H_0\\sqrt{\\Omega_m+\\Omega_\\Lambda}$"
   ]
  },
  {
   "cell_type": "code",
   "execution_count": 10,
   "metadata": {},
   "outputs": [
    {
     "name": "stdout",
     "output_type": "stream",
     "text": [
      "The distance to horizon at z=1000, today subtends an angle of ~2.08 degrees\n"
     ]
    }
   ],
   "source": [
    "a = 1/(1+1000)\n",
    "horangsize = (dH(1000)*a)/DA(1000)\n",
    "\n",
    "print(f'The distance to horizon at z=1000, today subtends an angle of ~{horangsize*rad2deg:.3} degrees')"
   ]
  },
  {
   "cell_type": "markdown",
   "metadata": {},
   "source": [
    "## 3. the expansion of the Universe\n",
    "### a) Show that at late times in a ΛCDM cosmology (such as the one in problem 1), the scale factor increases exponentially with time.  This is what the pundits mean when they refer to “the accelerating universe”."
   ]
  },
  {
   "cell_type": "markdown",
   "metadata": {},
   "source": [
    "From definition of $H$:\n",
    "\n",
    "$$\\begin{align}\n",
    "H &= \\frac{\\dot a}{a} \\\\\n",
    "\\int_{t_0}^t \\frac{\\dot a}{a}dt &= \\int_{t_0}^t H dt\\\\\n",
    "\\ln{a}|_{t_0}^t &=  \\int_{t_0}^t H dt \\\\\n",
    "a|_{t_0}^t &= e^{ \\int_{t_0}^t H dt }\\\\\n",
    "\\end{align}$$\n",
    "\n",
    "The cosmology $H=H_0\\sqrt{\\Omega_\\Lambda^{\\frac{1}{z}}}$ approximates, in late time limit, to $H=H_0$ becuase in latetime the contribution from $\\sqrt{\\Omega_\\Lambda}$ are very small. Since $H\\approx H_0$ in latetime we can pull it out of the integral without incurring a lot of inaccuracy: \n",
    "\n",
    "$$\\begin{align}\n",
    "a|_{t_0}^t &= e^{ H_0\\int_{t_0}^tdt }\\\\\n",
    "a &= e^{ H_0(t-t_0)}\n",
    "\\end{align}$$"
   ]
  },
  {
   "cell_type": "markdown",
   "metadata": {},
   "source": [
    "### b) Show using the Friedmann equations that as long as ρ+p/c2≥0, H(t) must increase monotonically in the past, regardless of what contribute to ρ and p at earlier epochs."
   ]
  },
  {
   "cell_type": "markdown",
   "metadata": {},
   "source": [
    "Writing out Friedman equations:\n",
    "\n",
    "$$\\begin{align}\n",
    "H^2 = \\left(\\frac{\\dot R}{R}\\right)^2 = \\left(\\frac{\\dot a}{a}\\right)^2 & = \\frac{8\\pi G}{3}\\rho + \\frac{kc^2R_c^2}{R^2} \\\\\n",
    "\\frac{\\ddot R}{R} = \\frac{\\ddot a}{a} &= - \\frac{4\\pi G}{3}\\left(\\rho + \\frac{3P}{c^2}\\right)\n",
    "\\end{align}$$\n",
    "\n",
    "where $k=0$ for a flat universe, so the second term of 1st Friedman equation dissapears. We also know $H=\\dot a/a$ so we use quotient rule to express $\\dot H$. We want to look at the change of $H$ and we want to show that, if going back in time, $\\dot H$ keeps decreasing. If $\\dot H$ is monotonicaly decreasing going back in time, conversely it must mean that it is monotonically increasing going forward in time. \n",
    "\n",
    "$$\\begin{align}\n",
    "\\frac{d}{dt} H &= \\frac{\\ddot a\\dot a - \\dot a\\dot a}{a^2} \\\\\n",
    "\\frac{d}{dt} H &= \\frac{\\ddot a}{a} - \\frac{\\dot a^2}{a^2} \\\\\n",
    "\\frac{d}{dt} H &= -\\frac{4\\pi G}{3}\\left(\\rho + \\frac{3P}{c^2}\\right) - \\frac{8\\pi G}{3}\\rho \\\\\n",
    "\\frac{d}{dt} H &= -\\frac{4\\pi G}{3}\\left(-\\rho - \\frac{3P}{c^2} - 2\\rho \\right) \\\\\n",
    "\\frac{d}{dt} H &= \\frac{4\\pi G}{3}\\left(-3\\rho - \\frac{3P}{c^2} \\right) \\\\\n",
    "\\frac{d}{dt} H &= -4\\pi G\\left(\\rho + \\frac{P}{c^2} \\right) < 0\n",
    "\\end{align}$$ \n",
    "\n",
    "Since it was given to us by the problem that we can assume $\\left(\\rho + \\frac{P}{c^2} \\right)$ that expression will always be negative. QED."
   ]
  },
  {
   "cell_type": "markdown",
   "metadata": {},
   "source": [
    "## 4. Densities and sizes. \n",
    "\n",
    "**For this problem, assume that Ωb= 0.05, Ωm= 0.3,H0= 70km/s/Mpc, and that 25% by mass of all the baryons are helium.**\n",
    "\n",
    "### a) Calculate the present number densities of hydrogen and helium using the above numbers.  "
   ]
  },
  {
   "cell_type": "markdown",
   "metadata": {},
   "source": [
    "Since we can write $\\epsilon_{b,0} = c^2 \\rho_{b,0}$:\n",
    "$$\\begin{align}\n",
    "\\Omega_{b,0} &= \\frac{\\epsilon_{b,0}}{\\epsilon_c} \\\\\n",
    "\\rho_{b,0} &= \\frac{\\Omega_{b,0}\\epsilon_c}{c^2}\n",
    "\\end{align}$$\n",
    "\n",
    "the value for $\\epsilon_c$ we find in Ryden $\\epsilon_C = 8.3 ± 1.7 \\cdot 10^{−10} J m^{-3}$ giving us\n",
    "\n",
    "$$\\rho_{b,0} = 4.611\\cdot 10^{-28} kgm^{-3}$$\n",
    "\n",
    "Which we cast into number density by, first by respecting the mass ratios $\\rho_{H,0} = 0.75\\rho_{b,0}$, and then:\n",
    "\n",
    "$$n_{H,0} = \\rho_{b,0}\\frac{N_A}{m_H} = \\rho_{b,0}\\frac{6.022\\cdot10^{23}}{1.008\\cdot10^{-3}}$$\n",
    "\n",
    "giving $n_{H,0} = 0.2066m^{-3}$. Same applies for hydrogen, except the mass ratio factor, giving us $n_{He,0} = 0.0688m^{-3}$"
   ]
  },
  {
   "cell_type": "markdown",
   "metadata": {},
   "source": [
    "### Compare this density to the sea-level density of molecules in Earth’s atmosphere. "
   ]
  },
  {
   "cell_type": "markdown",
   "metadata": {},
   "source": [
    "Molecules in air are uncomparably more denser, having close to $10^{27}m^{−3}$ molecules. "
   ]
  },
  {
   "cell_type": "markdown",
   "metadata": {},
   "source": [
    "### At what redshift would the number density of hydrogen be equal o the number density of moleculesin our atmosphere?"
   ]
  },
  {
   "cell_type": "markdown",
   "metadata": {},
   "source": [
    "Starting from energy density scaling:\n",
    "$$\\begin{align}\n",
    "\\epsilon &= \\frac{\\epsilon_{b,uni}}{a^3} \\\\\n",
    "a &= \\left(\\frac{\\epsilon_{b,0}}{\\epsilon}\\right)^{1/3} \\\\\n",
    "a &= \\left(\\frac{\\rho_{b,uni}}{\\rho_b}\\right)^{1/3} \\\\\n",
    "a &= \\left(\\frac{n_{b,uni}}{n_b}\\right)^{1/3} = \\frac{1}{1+z}\n",
    "\\end{align}$$\n",
    "\n",
    "Giving us $z=1693210396$ or $z\\approx10^9$."
   ]
  },
  {
   "cell_type": "markdown",
   "metadata": {},
   "source": [
    "### b) Calculate the comoving radius of a sphere in megaparsecs that, at the average cosmic density, has a halo mass of a dwarf galaxy with mass $10^{10}$M, a Milky Way mass galaxy with $10^{12}$M, anda galaxy cluster with $10^{15}$M."
   ]
  },
  {
   "cell_type": "markdown",
   "metadata": {},
   "source": [
    "A universe is flat if it has a density equal to its critical density: \n",
    "$$\\rho_c=\\frac{3H_0^2}{8\\pi  G}$$\n",
    "Since we're dealing with comoving radius we can just apply the \"regular\" equations for density $\\rho = m/V$, which give us:\n",
    "$$\\begin{align} \n",
    "V &= \\frac{4}{3}\\pi r^3 = \\frac{m}{\\rho} \\\\\n",
    "r &= \\left( \\frac{3}{4\\pi} \\frac{m}{\\Omega_m\\rho_c} \\right)^{1/3}\n",
    "\\end{align}$$\n",
    "where $\\Omega_m$ appears only to scale the critical density that includes other contributions as well. "
   ]
  },
  {
   "cell_type": "code",
   "execution_count": 8,
   "metadata": {},
   "outputs": [
    {
     "data": {
      "text/latex": [
       "$9.2041773 \\times 10^{-27} \\; \\mathrm{\\frac{kg}{m^{3}}}$"
      ],
      "text/plain": [
       "<Quantity 9.20417731e-27 kg / m3>"
      ]
     },
     "execution_count": 8,
     "metadata": {},
     "output_type": "execute_result"
    }
   ],
   "source": [
    "H0 = 70*u.km/u.s/u.Mpc\n",
    "rhoc2 = (3/(8*np.pi*c.G))*H0**2\n",
    "rhoc2.si"
   ]
  },
  {
   "cell_type": "code",
   "execution_count": 9,
   "metadata": {},
   "outputs": [
    {
     "data": {
      "text/latex": [
       "$[0.38823193,~1.802013,~18.02013] \\; \\mathrm{Mpc}$"
      ],
      "text/plain": [
       "<Quantity [ 0.38823193,  1.80201299, 18.02012987] Mpc>"
      ]
     },
     "execution_count": 9,
     "metadata": {},
     "output_type": "execute_result"
    }
   ],
   "source": [
    "Omega_m = 0.3\n",
    "mass = np.array([10**10, 10**12, 10**15]) * u.M_sun\n",
    "\n",
    "r = lambda m: (3/(4*np.pi) * m/(Omega_m*rhoc2))**(1/3)\n",
    "r(mass).to(u.Mpc)"
   ]
  }
 ],
 "metadata": {
  "kernelspec": {
   "display_name": "Python 3",
   "language": "python",
   "name": "python3"
  },
  "language_info": {
   "codemirror_mode": {
    "name": "ipython",
    "version": 3
   },
   "file_extension": ".py",
   "mimetype": "text/x-python",
   "name": "python",
   "nbconvert_exporter": "python",
   "pygments_lexer": "ipython3",
   "version": "3.7.2"
  }
 },
 "nbformat": 4,
 "nbformat_minor": 1
}
