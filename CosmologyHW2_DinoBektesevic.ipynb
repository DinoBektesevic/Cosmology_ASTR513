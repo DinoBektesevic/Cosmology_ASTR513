{
 "cells": [
  {
   "cell_type": "markdown",
   "metadata": {},
   "source": [
    "# Cosmology HW2\n",
    "## Dino Bektesevic 24.04.2019"
   ]
  },
  {
   "cell_type": "code",
   "execution_count": 1,
   "metadata": {},
   "outputs": [],
   "source": [
    "import numpy as np\n",
    "import matplotlib.pyplot as plt\n",
    "from scipy.optimize import fsolve\n",
    "import astropy.units as u\n",
    "import astropy.constants as c\n",
    "%matplotlib inline"
   ]
  },
  {
   "cell_type": "markdown",
   "metadata": {},
   "source": [
    "Unless otherwise specified, please assume the concordance cosmology for this problem: (Ωm,ΩΛ,Ωr,h) =(0.30.7,10−4,0.7) hereh≡H0/[100 km/s/Mpc].1. hot dark matter"
   ]
  },
  {
   "cell_type": "markdown",
   "metadata": {},
   "source": [
    "# 1. Consider a particle of mass mH that decouples from other particles (i.e.〈σvn << H) at temperatureT with c2mH << kbT.  Such a article is called a hot thermal relic and there are strong limits on itbeing the dark matter.\n",
    "\n",
    "## 1.a)  Calculate  the  comoving  istance  the  particle  can  free  stream  (λF S)  from  the  moment  of decoupling until the present.  Consider the ases hereλFS is dominated by the contribution from when the Universe was either matter dominated or radiation dominated.   Roughly  what  is  them H value  below  which  the  matter dominated limit is most applicable?\n",
    "\n",
    "When matter dominated:\n",
    "$$H = H_0 \\sqrt{\\Omega_{m,0}}(1+z)^{3/2}$$\n",
    "when radiation dominated:\n",
    "$$H = H_0 \\sqrt{\\Omega_{r,0}}(1+z)^2$$\n",
    "\n",
    "The comoving distance traveled by such a particle is:\n",
    "\n",
    "$$d = \\int_{z_{\\mathrm{decouple}}}^0\\frac{cdz}{H(z)}$$\n",
    "\n",
    "Particle travels the furthest distance while it remains highly relativistic $k_bT=mc^2$ and since $T=T_0(1+z)$:\n",
    "\n",
    "$$z_{\\mathrm{non-relativistic}} = \\frac{c^2m}{k_bT_0}-1$$\n",
    "\n",
    "Once particle is not relativisic anymore it just does not cover appreciable distance anymore, compared to distances traversed in particle's history. So we can approximate the top limit of the integral with $z_{\\mathrm{non-relativistic}}$:\n",
    "\n",
    "$$d = \\int_{z_{\\mathrm{non-relativistic}}}^{z_{\\mathrm{decouple}}}\\frac{cdz}{H(z)}$$\n",
    "\n",
    "Adopting a matter dominated universe:\n",
    "\n",
    "$$\\begin{align*}\n",
    "d &= \\int_{z_{nr}}^{z_d}\\frac{cdz}{H_0 \\sqrt{\\Omega_{m,0}}(1+z)^{3/2}} \\\\\n",
    "d &= \\frac{c}{H_0 \\sqrt{\\Omega_{m,0}}} \\int_{z_{nr}}^{z_d}\\frac{dz}{(1+z)^{3/2}} \\\\\n",
    "d &= -\\frac{2c}{H_0 \\sqrt{\\Omega_{m,0}}} \\left.\\frac{1}{\\sqrt{1+z}}\\right\\vert_{z_{nr}}^{z_d} \\\\\n",
    "d &= -\\frac{2c}{H_0 \\sqrt{\\Omega_{m,0}}} \\left(\\frac{1}{\\sqrt{1+z_d}} - \\frac{1}{\\sqrt{1+z_{nr}}} \\right) \\\\\n",
    "\\text{In the limit:}& \\lim_{z_d \\rightarrow \\infty} \\frac{1}{\\sqrt{1+z_d}} = 0 \\\\\n",
    "d &= \\frac{2c}{H_0 \\sqrt{\\Omega_{m,0}}} \\frac{1}{\\sqrt{\\frac{c^2m}{k_bT_0}}} = \\frac{2c}{H_0 \\sqrt{\\Omega_{m,0}}} \\sqrt{\\frac{k_bT_0}{c^2m}} = 270Mpc\n",
    "\\end{align*}$$\n",
    "\n",
    "In the radiation dominated universe:\n",
    "\n",
    "$$\\begin{align*}\n",
    "d &= \\int_{z_{nr}}^{z_d}\\frac{cdz}{H_0 \\sqrt{\\Omega_{r,0}}(1+z)^2} \\\\\n",
    "d &= \\frac{c}{H_0 \\sqrt{\\Omega_{r,0}}} \\int_{z_{nr}}^{z_d}\\frac{dz}{(1+z)^2} \\\\\n",
    "d &= -\\frac{c}{H_0 \\sqrt{\\Omega_{r,0}}} \\left.\\frac{1}{1+z}\\right\\vert_{z_{nr}}^{z_d} \\\\\n",
    "d &= -\\frac{c}{H_0 \\sqrt{\\Omega_{r,0}}} \\left( \\frac{1}{1+z_d} - \\frac{1}{1+z_{nr}}  \\right) \\\\\n",
    "\\text{In the limit:}& \\lim_{z_d \\rightarrow \\infty} \\frac{1}{1+z_d} = 0 \\\\\n",
    "d &= \\frac{c}{H_0 \\sqrt{\\Omega_{r,0}}} \\frac{1}{\\frac{c^2m}{k_bT_0}} = \\frac{c}{H_0 \\sqrt{\\Omega_{r,0}}} \\frac{k_bT_0}{c^2m} = 128Mpc\n",
    "\\end{align*}$$\n",
    "\n",
    "The mass at which matter dominated limit becomes most applicable can be determined from:\n",
    "$$kT = mc^2$$\n",
    "by picking $T=9000K$ (z=3000)\n",
    "$$m = kT/c^2 = 1.38 \\cdot 10^{−36}kg$$"
   ]
  },
  {
   "cell_type": "code",
   "execution_count": 2,
   "metadata": {},
   "outputs": [
    {
     "data": {
      "text/latex": [
       "$0.77555973 \\; \\mathrm{eV}$"
      ],
      "text/plain": [
       "<Quantity 0.77555973 eV>"
      ]
     },
     "execution_count": 2,
     "metadata": {},
     "output_type": "execute_result"
    }
   ],
   "source": [
    "mH = (c.k_B * 9000*u.K / c.c**2).si\n",
    "(mH * c.c**2).to(u.eV)"
   ]
  },
  {
   "cell_type": "code",
   "execution_count": 3,
   "metadata": {},
   "outputs": [
    {
     "data": {
      "text/latex": [
       "$270.86486 \\; \\mathrm{Mpc}$"
      ],
      "text/plain": [
       "<Quantity 270.86485503 Mpc>"
      ]
     },
     "execution_count": 3,
     "metadata": {},
     "output_type": "execute_result"
    }
   ],
   "source": [
    "T0 = 2.7*u.K\n",
    "H0 = 70 * u.km/(u.s*u.Mpc)\n",
    "#mH = 1.6735575*10**(-27) * u.kg\n",
    "Om = 0.3\n",
    "Or = 10**(-4)\n",
    "\n",
    "( (2*c.c)/(H0*np.sqrt(Om)) * np.sqrt( (c.k_B*T0)/(c.c**2*mH) ) ).to(u.Mpc)"
   ]
  },
  {
   "cell_type": "code",
   "execution_count": 4,
   "metadata": {},
   "outputs": [
    {
     "data": {
      "text/latex": [
       "$128.48248 \\; \\mathrm{Mpc}$"
      ],
      "text/plain": [
       "<Quantity 128.482482 Mpc>"
      ]
     },
     "execution_count": 4,
     "metadata": {},
     "output_type": "execute_result"
    }
   ],
   "source": [
    "( (c.c)/(H0*np.sqrt(Or)) * (c.k_B*T0)/(c.c**2*mH) ).to(u.Mpc)"
   ]
  },
  {
   "cell_type": "markdown",
   "metadata": {},
   "source": [
    "## b) suppose this particle was the dark matter.  Use the above results to estimate the particle mass that suppresses objects of the size of dwarf galaxies (10^10M), the Milky Way (10^12M), and galaxy clusters (10^15M).\n",
    "\n",
    "From HW1 we know\n",
    "\n",
    "$$r = \\left( \\frac{3}{4\\pi} \\frac{m}{\\Omega_m\\rho_c} \\right)^{1/3}$$\n",
    "\n",
    "and that \n",
    "\n",
    "| M (Msol)    | r      |\n",
    "|-------------|--------|\n",
    "|  $10^{10}$  |  0.388 |\n",
    "|  $10^{12}$  |  1.802 |\n",
    "|  $10^{15}$  | 18.020 |\n",
    "\n",
    "We can set the comoving distance traveled equal to $r$\n",
    "\n",
    "$$\\begin{align*}\n",
    "d = r \\\\\n",
    "\\frac{2c}{H_0 \\sqrt{\\Omega_{m,0}}} \\sqrt{\\frac{k_bT_0}{c^2m}} = r \\\\\n",
    "\\sqrt{\\frac{k_bT_0}{c^2m}} = \\frac{H_0 \\sqrt{\\Omega_{m,0}}}{2c}r \\\\\n",
    "\\frac{k_bT_0}{c^2m} = \\left( \\frac{H_0 \\sqrt{\\Omega_{m,0}}}{2c}r \\right)^2 \\\\\n",
    "m = \\frac{k_bT_0}{c^2} \\left( \\frac{H_0 \\sqrt{\\Omega_{m,0}}}{2c}r \\right)^{-2} \\\\\n",
    "m = \\frac{k_bT_0}{c^2} \\left( \\frac{2c}{H_0 \\sqrt{\\Omega_{m,0}}r} \\right)^2\n",
    "\\end{align*}$$"
   ]
  },
  {
   "cell_type": "code",
   "execution_count": 5,
   "metadata": {},
   "outputs": [
    {
     "data": {
      "text/latex": [
       "$[6.7298758 \\times 10^{-31},~3.1237316 \\times 10^{-32},~3.1237316 \\times 10^{-34}] \\; \\mathrm{kg}$"
      ],
      "text/plain": [
       "<Quantity [6.72987582e-31, 3.12373161e-32, 3.12373161e-34] kg>"
      ]
     },
     "execution_count": 5,
     "metadata": {},
     "output_type": "execute_result"
    }
   ],
   "source": [
    "r = [0.38823193, 1.802013, 18.02013]* u.Mpc\n",
    "mass = lambda x: c.k_B*T0/c.c**2 * ( (2*c.c)/(H0*np.sqrt(Om)*x) )**2\n",
    "mass(r).si"
   ]
  },
  {
   "cell_type": "code",
   "execution_count": 6,
   "metadata": {},
   "outputs": [
    {
     "data": {
      "text/latex": [
       "$[377.51835,~17.522849,~0.17522849] \\; \\mathrm{keV}$"
      ],
      "text/plain": [
       "<Quantity [3.77518350e+02, 1.75228494e+01, 1.75228494e-01] keV>"
      ]
     },
     "execution_count": 6,
     "metadata": {},
     "output_type": "execute_result"
    }
   ],
   "source": [
    "(mass(r) * c.c**2).to(u.keV)"
   ]
  },
  {
   "cell_type": "markdown",
   "metadata": {},
   "source": [
    "## c) What mH must the particle have to result in Ωm,0 = 0.25 and,hence, to be all the dark atter?  Do you foresee any problem with this dark matter candidate?\n",
    "\n",
    "From conservation of entropy:\n",
    "\n",
    "$$\\begin{align*}\n",
    "100T^3 V= \\left(2T_{CMB}^3 + 6\\frac{7}{8}\\frac{4}{11}T_\\nu^3 \\right)V \\\\\n",
    "100T^3 = \\left(2T_{CMB}^3 + 6\\frac{7}{8}\\frac{4}{11}T_{CMB}^3\\right) \\\\\n",
    "T^3 = \\frac{1}{100} \\left(2T_{CMB}^3 + \\frac{21}{1}T_{CMB}^3\\right) \\\\\n",
    "T = 0.92K\n",
    "\\end{align*}$$\n",
    "\n",
    "From the definition of density:\n",
    "\n",
    "$$\\rho \\approx m c_1 T^3$$\n",
    "\n",
    "And then from definition of $\\Omega$ we have the following:\n",
    "\n",
    "$$\\begin{align*}\n",
    "\\Omega = \\frac{\\rho}{\\rho_c} \\\\\n",
    "0.25 \\approx \\frac{m c_1 T^3}{\\rho_c} \\\\\n",
    "m \\approx \\frac{\\Omega \\rho_c}{c_1 T^3}\n",
    "\\end{align*}$$"
   ]
  },
  {
   "cell_type": "code",
   "execution_count": 91,
   "metadata": {},
   "outputs": [
    {
     "data": {
      "text/latex": [
       "$4.8737607 \\times 10^{-33} \\; \\mathrm{g}$"
      ],
      "text/plain": [
       "<Quantity 4.87376074e-33 g>"
      ]
     },
     "execution_count": 91,
     "metadata": {},
     "output_type": "execute_result"
    }
   ],
   "source": [
    "rhoc = 0.9*10**(-30) #3*H0**2/(8*np.pi*c.G)\n",
    "Omega = 0.25\n",
    "c1 = 60 #* 1/(u.K**3*u.m**3)\n",
    "T = (1/100 * (2*T0**3 + 21/11*T0**3))**(1/3)\n",
    "m = (Omega*rhoc)/(c1*(T**3).value) * u.g\n",
    "m"
   ]
  },
  {
   "cell_type": "code",
   "execution_count": 93,
   "metadata": {},
   "outputs": [
    {
     "data": {
      "text/latex": [
       "$2.7339793 \\; \\mathrm{eV}$"
      ],
      "text/plain": [
       "<Quantity 2.73397929 eV>"
      ]
     },
     "execution_count": 93,
     "metadata": {},
     "output_type": "execute_result"
    }
   ],
   "source": [
    "(m * c.c**2).to(u.eV)"
   ]
  },
  {
   "cell_type": "markdown",
   "metadata": {},
   "source": [
    "The particle is a bit to"
   ]
  },
  {
   "cell_type": "markdown",
   "metadata": {},
   "source": [
    "# 2. \n",
    "\n",
    "## a) Solve numerically the Saha equation for xe(z) to yield the recombination history.  At what redshift is Recombination well under way such that xe≈0.1? What about xe≈0.9?\n",
    "\n",
    "The Saha equation:\n",
    "\n",
    "$$\\begin{align*}\n",
    "\\frac{1-x_e}{x_e^2} = \\frac{4\\sqrt{2}\\xi(3)}{\\sqrt{\\pi}} \\left( \\frac{k_BT}{m_ec^2} \\right)^{3/2} e^{\\frac{I}{k_BT}} \\\\\n",
    "\\left[ \\frac{4\\sqrt{2}\\xi(3)}{\\sqrt{\\pi}} \\left( \\frac{k_BT}{m_ec^2} \\right)^{3/2} e^{\\frac{I}{k_BT}} \\right]x_e^2 + x_e - 1 = 0\\\\\n",
    "\\left[ A (1+z)^{3/2} e^{\\frac{I}{k_BT_0(1+z)}} \\right]x_e^2 + x_e - 1 = 0\n",
    "\\end{align*}$$\n",
    "\n",
    "where A is given as:\n",
    "\n",
    "$$ A = \\frac{4\\sqrt{2}\\xi(3)}{\\sqrt{\\pi}} \\left( \\frac{k_BT_0}{m_ec^2} \\right)^{3/2} $$"
   ]
  },
  {
   "cell_type": "code",
   "execution_count": 7,
   "metadata": {},
   "outputs": [
    {
     "name": "stdout",
     "output_type": "stream",
     "text": [
      "\n",
      " For Xe=0.1 the z=1257.0881026234554 and for Xe=0.9 the z=1475.8721097221407 \n",
      "\n"
     ]
    }
   ],
   "source": [
    "def saha(xe):\n",
    "    \"\"\"For a given Xe returns an equation for Xe(z) = Xe. \n",
    "    Good for root solving. \n",
    "    \"\"\"\n",
    "    I = 13.6 * u.eV\n",
    "    nu = 5*10**(-10)\n",
    "    eps = 1.202\n",
    "    T = 2.72 * u.K\n",
    "    a = np.sqrt(2/np.pi) * 4*eps*nu * (c.k_B*T/(c.m_e*c.c**2))**(3/2)\n",
    "    f = lambda z: a * (1+z)**(3/2) * np.exp(I/(c.k_B*T*(1+z))) * xe**2 + xe - 1\n",
    "    return f\n",
    "\n",
    "saha01 = saha(0.1)\n",
    "saha09 = saha(0.9)\n",
    "saha01_roots = fsolve(saha01, 1100)\n",
    "saha09_roots = fsolve(saha09, 1100)\n",
    "print(f\"\\n For Xe=0.1 the z={saha01_roots[0]} and for Xe=0.9 the z={saha09_roots[0]} \\n\")"
   ]
  },
  {
   "cell_type": "markdown",
   "metadata": {},
   "source": [
    "Lets drive the point home with a plot where the point of the problem is much easier to see."
   ]
  },
  {
   "cell_type": "code",
   "execution_count": 8,
   "metadata": {},
   "outputs": [
    {
     "name": "stderr",
     "output_type": "stream",
     "text": [
      "/home/dinob/anaconda3/envs/cosmology/lib/python3.7/site-packages/scipy/optimize/minpack.py:162: RuntimeWarning: The number of calls to function has reached maxfev = 400.\n",
      "  warnings.warn(msg, RuntimeWarning)\n"
     ]
    },
    {
     "data": {
      "image/png": "[encoded data removed]",
      "text/plain": [
       "<Figure size 864x432 with 1 Axes>"
      ]
     },
     "metadata": {
      "needs_background": "light"
     },
     "output_type": "display_data"
    }
   ],
   "source": [
    "def sahaInv(z):\n",
    "    \"\"\"Returns ionization fraction at a given redshift.\"\"\"\n",
    "    I = 13.6 * u.eV\n",
    "    nu = 5*10**(-10)\n",
    "    eps = 1.202\n",
    "    T = 2.72 * u.K\n",
    "    a = np.sqrt(2/np.pi) * 4*eps*nu * (c.k_B*T/(c.m_e*c.c**2))**(3/2)\n",
    "    f = lambda xe: a * (1+z)**(3/2) * np.exp(I/(c.k_B*T*(1+z))) * xe**2 + xe - 1\n",
    "    roots = fsolve(f, 0.5)\n",
    "    return roots\n",
    "\n",
    "def sahaInvSolver(z):\n",
    "    \"\"\"For an array of redshifts solves the ionization fraction.\n",
    "    \n",
    "    The best would be if we could just use sahaInv, but because of local\n",
    "    namespace bindings in the lambda function and the fact numpy will try\n",
    "    to run in parallel, the value of z gets rebound mid-execution. How annoying.\n",
    "    \"\"\"\n",
    "    return np.fromiter(map(sahaInv, z), dtype=float)\n",
    "\n",
    "# check correctness\n",
    "#sahaInv(1257.0881026234554) #(0.1)\n",
    "#sahaInv(1475.8721097221407)  #(0.9)\n",
    "\n",
    "#sahaInvSolver([1257.0881026234554, 1475.8721097221407])\n",
    "\n",
    "z = np.arange(100, 3000, 30)\n",
    "xe = sahaInvSolver(z)\n",
    "fig, ax = plt.subplots(figsize=(12, 6))\n",
    "ax.plot(z, xe, label=r\"$X_e$\")\n",
    "ax.set_xlabel('z')\n",
    "ax.set_ylabel('Xe')\n",
    "ax.axvline(saha01_roots[0], c='black', ls='--')\n",
    "plt.annotate(r\"$X_e=0.1$\", (saha01_roots[0]-250, 0.1))\n",
    "ax.axvline(saha09_roots[0], c='black', ls='--')\n",
    "plt.annotate(r\"$X_e=0.9$\", (saha09_roots[0]+50, 0.9))\n",
    "plt.legend()\n",
    "plt.show()"
   ]
  },
  {
   "cell_type": "markdown",
   "metadata": {},
   "source": [
    "## b) When the reaction rate Γ falls below the Hubble expansion rate, then the formation of  neutral  atoms  ceases  and  the  Saha  approximation  breaks  down.   Estimate  the  temperature, ionization  fraction,  and  redshift  at  which  this  occurs. \n",
    "\n",
    "Equating reaction rate $\\Gamma = <\\sigma v> n_p$ with matter dominated Hubble expansion rate $H = H_0 \\sqrt{\\Omega_{m,0}} (1+z)^{3/2}$, keeping in mind that $X_e = n_p/n_b$, we have:\n",
    "\n",
    "$$\\begin{align*}\n",
    "<\\sigma v> n_p = H_0 \\sqrt{\\Omega_{m,0}} (1+z)^{3/2} \\\\\n",
    "<\\sigma v> X_e n_b = H_0 \\sqrt{\\Omega_{m,0}} (1+z)^{3/2}\n",
    "\\end{align*}$$\n",
    "\n",
    "where $H_0$ $\\Omega_{m,0}$ are given, we know that $X_e$ is a function of $z$ alone:\n",
    "\n",
    "$$\\left[ A (1+z)^{3/2} e^{\\frac{I}{k_BT_0(1+z)}} \\right]x_e^2 + x_e - 1 = 0$$\n",
    "\n",
    "that \n",
    "\n",
    "$$<\\sigma v> = 4.7\\cdot 10^{-24}\\sqrt{\\frac{k_BT}{1eV}}c = 4.7\\cdot 10^{-24}\\sqrt{\\frac{k_BT_0(1+z)}{1eV}}c cm^2$$\n",
    "\n",
    "and that:\n",
    "\n",
    "$$n_b = 2\\cdot 10^{-7}(1+z)^3$$\n",
    "\n",
    "Putting it all together:\n",
    "\n",
    "$$\\begin{align*}\n",
    "4.7\\cdot 10^{-24}\\sqrt{\\frac{k_BT_0(1+z)}{1eV}}ccm^2 X_e 2\\cdot 10^{-7}(1+z)^3 &= H_0 \\sqrt{\\Omega_{m,0}} (1+z)^{3/2} \\\\\n",
    "9.4\\cdot 10^{-31}\\sqrt{\\frac{k_BT_0}{1eV}}ccm^2 X_e (1+z)^2  &= H_0 \\sqrt{\\Omega_{m,0}} \\\\\n",
    "9.4\\cdot 10^{-31}\\sqrt{\\frac{k_BT_0}{\\Omega_{m,0} 1eV}}ccm^2 X_e (1+z)^2  - H_0 &= 0\n",
    "\\end{align*}$$\n"
   ]
  },
  {
   "cell_type": "code",
   "execution_count": 9,
   "metadata": {
    "scrolled": false
   },
   "outputs": [],
   "source": [
    "def sahaIonEqSys(z, forPlot=False):\n",
    "    # estimate <sigma v> at that z\n",
    "    T0 = 2.7*u.K\n",
    "    sigmav = 4.7*10**(-24) * np.sqrt( (c.k_B*T0*(1+z))/(1*u.eV) )*c.c*u.cm**2\n",
    "    # estimate ionization fraction at that z\n",
    "    xe = sahaInvSolver(z)\n",
    "    # estimate nb\n",
    "    nb = 2*10**(-7)*(1+z)**3 * 1/u.cm**3\n",
    "    # calculate gamma\n",
    "    gamma = sigmav*xe*nb  \n",
    "    # calculate H\n",
    "    Om = 0.3\n",
    "    H0 = 70 * u.km/(u.s*u.Mpc)\n",
    "    H  = H0 * np.sqrt(Om) * (1+z)**(3/2)\n",
    "    \n",
    "    # finally, find when the two are the same\n",
    "    if forPlot:\n",
    "        return gamma.si, H.si\n",
    "    return (gamma-H).si"
   ]
  },
  {
   "cell_type": "code",
   "execution_count": 10,
   "metadata": {},
   "outputs": [
    {
     "name": "stdout",
     "output_type": "stream",
     "text": [
      "\n",
      "\n",
      "Reaction rate will reach the expansion rate at z=1076.6597784141154\n",
      "Ionization fraction at that time is Xe=0.002489017584750802.\n",
      "Temperature at that time is T=2909.681401718112 K.\n",
      "\n",
      "\n"
     ]
    }
   ],
   "source": [
    "roots = fsolve(sahaIonEqSys, 1100)\n",
    "xe = sahaInv(roots[0]) \n",
    "T = 2.7*u.K*(1+roots[0])\n",
    "print(f\"\"\"\n",
    "\n",
    "Reaction rate will reach the expansion rate at z={roots[0]}\n",
    "Ionization fraction at that time is Xe={xe[0]}.\n",
    "Temperature at that time is T={T}.\n",
    "\n",
    "\"\"\")"
   ]
  },
  {
   "cell_type": "markdown",
   "metadata": {},
   "source": [
    "Since its also a minimal investment lets plot it too."
   ]
  },
  {
   "cell_type": "code",
   "execution_count": 11,
   "metadata": {},
   "outputs": [],
   "source": [
    "z = np.arange(800, 1200)\n",
    "gamma_H0 = sahaIonEqSys(z, forPlot=True)"
   ]
  },
  {
   "cell_type": "code",
   "execution_count": 33,
   "metadata": {},
   "outputs": [
    {
     "data": {
      "text/plain": [
       "Text(1036.6597784141154, 1e-13, '$z=1076.7$')"
      ]
     },
     "execution_count": 33,
     "metadata": {},
     "output_type": "execute_result"
    },
    {
     "data": {
      "image/png": "[encoded data removed]",
      "text/plain": [
       "<Figure size 864x432 with 1 Axes>"
      ]
     },
     "metadata": {
      "needs_background": "light"
     },
     "output_type": "display_data"
    }
   ],
   "source": [
    "fig, ax = plt.subplots(figsize=(12, 6))\n",
    "ax.plot(z, gamma_H0[0], label=r\"$\\Gamma$\")\n",
    "ax.plot(z, gamma_H0[1], label=r\"$H$\")\n",
    "ax.set_ylabel('Rates (1/s)')\n",
    "ax.set_xlabel('Redshift z')\n",
    "ax.axvline(roots[0], c='black', ls='--')\n",
    "plt.annotate(r\"$z={0:.5}$\".format(roots[0]), (roots[0]-40, 0.1*10**(-12)))\n",
    "#plt.legend()\n",
    "#plt.show()"
   ]
  },
  {
   "cell_type": "markdown",
   "metadata": {},
   "source": [
    "## c) Estimate the residual fraction of electrons that will never recombine. \n",
    "\n",
    "Previously in (b) we calculated when the rate of the hubble expansion will be equal to recombination rate. After that the recombination stops because things are moving away from each other faster than they are recombining. The remaining fraction of ionized electrons will never recombine again. \n",
    "\n",
    "The residual fraction of never-to-recombine electrons is the same as in previous answer."
   ]
  },
  {
   "cell_type": "markdown",
   "metadata": {},
   "source": [
    "# 3 Explain qualitatively how the angular fluctuations in the CMB temperature would change if\n",
    "\n",
    "## (a) The Thomson scattering cross section were ten times larger.\n",
    "\n",
    "Larger Thompson cross-section means photons would be re-absorbed quicker. That means that the mean free path length would be shorter and subsequently there would be less mixing of photons at different energies originating from different regions. Diffusivity would be smaller, thus smaller scale perturbations would be better preserved.\n",
    "\n",
    "## (b) There was no dark matter and instead all of the matter, with $\\Omega_{m,0}$ = 0.3, was in baryons.\n",
    "\n",
    "The electron density is directly proportional with $\\Omega_{m,0}$, meaning that increase in $\\Omega_{m,0}$ is an increase in electron number density and consequently a reduction of the mean free path and consequently a reduced effects of diffusivity are felt. This means small scale perturbations would be better preserved in the CMB.\n",
    "\n",
    "## (c) There was an extra massless species of neutrinos (i.e. a fourth species leading to more relativistic degrees of freedom).\n",
    "\n",
    "Adding neutrinos into the mix is effectively heping photons. Adding a new neutrino species is effectively adding more neutrinos to the universe, increasing its radiation density. This would further supress the growth of fluctiations on small scales. \n",
    "\n",
    "## (d) Reionization happened at z≈100 rather thanz≈8 as in our Universe.  [Hint:  First calculate the optical depth for a CMB photon to Thomson scatter on the free electrons reionization produces.]\n",
    "\n",
    "\n",
    "$\\tau = \\sigma_T n_e L$ at larger z the density is larger so the optical depth is larger, so everything looks more optically thick and we see less of CMB because $T = Te^\\tau + T_{CMB}(1-e^{-\\tau})$\n",
    "\n",
    "## (e) We were able to observe in the CMB rest frame (rather than moving with peculiar velocity of vp= 680 km/s. \n",
    "\n",
    "We wouldn't see the dipole in the CMB. "
   ]
  },
  {
   "cell_type": "code",
   "execution_count": null,
   "metadata": {},
   "outputs": [],
   "source": []
  }
 ],
 "metadata": {
  "kernelspec": {
   "display_name": "Python 3",
   "language": "python",
   "name": "python3"
  },
  "language_info": {
   "codemirror_mode": {
    "name": "ipython",
    "version": 3
   },
   "file_extension": ".py",
   "mimetype": "text/x-python",
   "name": "python",
   "nbconvert_exporter": "python",
   "pygments_lexer": "ipython3",
   "version": "3.7.3"
  }
 },
 "nbformat": 4,
 "nbformat_minor": 1
}
